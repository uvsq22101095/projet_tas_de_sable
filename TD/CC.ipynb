{
 "cells": [
  {
   "cell_type": "markdown",
   "metadata": {},
   "source": [
    "                                        Khôlle( 23/03/22)"
   ]
  },
  {
   "cell_type": "markdown",
   "metadata": {},
   "source": [
    "Nathan\n",
    "\n",
    "Tipaka\n",
    "\n",
    "L1 miashs TD1\n",
    "\n",
    "22107022\n"
   ]
  }
 ],
 "metadata": {
  "interpreter": {
   "hash": "16eb40b6a8254a37902728ef6f0936704ac0cf46c5b754ec94a9fd34fa234a68"
  },
  "kernelspec": {
   "display_name": "Python 3.9.7 ('base')",
   "language": "python",
   "name": "python3"
  },
  "language_info": {
   "codemirror_mode": {
    "name": "ipython",
    "version": 3
   },
   "file_extension": ".py",
   "mimetype": "text/x-python",
   "name": "python",
   "nbconvert_exporter": "python",
   "pygments_lexer": "ipython3",
   "version": "3.9.7"
  },
  "orig_nbformat": 4
 },
 "nbformat": 4,
 "nbformat_minor": 2
}
