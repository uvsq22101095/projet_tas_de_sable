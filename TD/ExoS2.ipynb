{
 "cells": [
  {
   "cell_type": "code",
   "execution_count": 65,
   "metadata": {},
   "outputs": [],
   "source": [
    "Monfichier = open(\"text.txt\",\"w\")"
   ]
  },
  {
   "cell_type": "code",
   "execution_count": 66,
   "metadata": {},
   "outputs": [],
   "source": [
    "Monfichier.write(\"hello\")\n",
    "Monfichier.close()"
   ]
  },
  {
   "cell_type": "code",
   "execution_count": 67,
   "metadata": {},
   "outputs": [
    {
     "data": {
      "text/plain": [
       "['hello']"
      ]
     },
     "execution_count": 67,
     "metadata": {},
     "output_type": "execute_result"
    }
   ],
   "source": [
    "Monfichier = open(\"test.txt\",\"r\")\n",
    "Monfichier.readlines()"
   ]
  },
  {
   "cell_type": "markdown",
   "metadata": {},
   "source": [
    "EXERCICE 2:"
   ]
  },
  {
   "cell_type": "markdown",
   "metadata": {},
   "source": [
    "TOUJOURS ENREGISTRER SINON BZ\n"
   ]
  },
  {
   "cell_type": "markdown",
   "metadata": {},
   "source": [
    "1)"
   ]
  },
  {
   "cell_type": "code",
   "execution_count": 104,
   "metadata": {},
   "outputs": [
    {
     "data": {
      "text/plain": [
       "370103"
      ]
     },
     "execution_count": 104,
     "metadata": {},
     "output_type": "execute_result"
    }
   ],
   "source": [
    "def nb_lignes(nom_fichier):\n",
    "    Monfichier = open(nom_fichier,\"r\")\n",
    "    line = Monfichier.readlines()\n",
    "    return (len(line))\n",
    "\n",
    "    \n",
    "nb_lignes (\"words.txt\")\n",
    "\n",
    "\n",
    "\n",
    "    "
   ]
  },
  {
   "cell_type": "markdown",
   "metadata": {},
   "source": [
    "2)"
   ]
  },
  {
   "cell_type": "code",
   "execution_count": 3,
   "metadata": {},
   "outputs": [],
   "source": [
    "def ecrit_liste_mots(n) :\n",
    "    Monfichier = open(\"words.txt\",\"r\")\n",
    "    MonfichierN = open(f\"words{n}.txt\", \"w\")\n",
    "\n",
    "    while (True) :\n",
    "        line = Monfichier.readline()\n",
    "        if (line == \"\" ) :\n",
    "            break\n",
    "        if (len(line) == n+1) :\n",
    "            MonfichierN.write(line)\n",
    "        else :\n",
    "            pass\n",
    "    Monfichier.close()\n",
    "    MonfichierN.close()\n",
    "    \n",
    "\n",
    "ecrit_liste_mots(7)\n",
    "    "
   ]
  }
 ],
 "metadata": {
  "interpreter": {
   "hash": "a8e4759d72a4c852846975821eeff7b51027d7042efa44afdc3767d7d946d098"
  },
  "kernelspec": {
   "display_name": "Python 3.9.7 ('l1-python')",
   "language": "python",
   "name": "python3"
  },
  "language_info": {
   "codemirror_mode": {
    "name": "ipython",
    "version": 3
   },
   "file_extension": ".py",
   "mimetype": "text/x-python",
   "name": "python",
   "nbconvert_exporter": "python",
   "pygments_lexer": "ipython3",
   "version": "3.9.7"
  },
  "orig_nbformat": 4
 },
 "nbformat": 4,
 "nbformat_minor": 2
}
